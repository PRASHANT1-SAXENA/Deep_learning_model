{
 "cells": [
  {
   "cell_type": "code",
   "execution_count": 1,
   "id": "3b26f505",
   "metadata": {},
   "outputs": [],
   "source": [
    "import tensorflow as tf\n",
    "from tensorflow import keras\n",
    "import matplotlib.pyplot as plt\n",
    "%matplotlib inline\n",
    "import numpy as np\n",
    "import seaborn as sns"
   ]
  },
  {
   "cell_type": "code",
   "execution_count": 2,
   "id": "01a1300a",
   "metadata": {},
   "outputs": [],
   "source": [
    "(x_train,y_train),(x_test,y_test) = keras.datasets.mnist.load_data()"
   ]
  },
  {
   "cell_type": "code",
   "execution_count": null,
   "id": "a94026ad",
   "metadata": {},
   "outputs": [],
   "source": []
  },
  {
   "cell_type": "code",
   "execution_count": 3,
   "id": "92c2e84d",
   "metadata": {},
   "outputs": [
    {
     "name": "stdout",
     "output_type": "stream",
     "text": [
      "(60000, 28, 28)\n",
      "(10000, 28, 28)\n",
      "(60000,)\n",
      "(10000,)\n"
     ]
    }
   ],
   "source": [
    "print(x_train.shape)\n",
    "print(x_test.shape)\n",
    "print(y_train.shape)\n",
    "print(y_test.shape)"
   ]
  },
  {
   "cell_type": "code",
   "execution_count": 4,
   "id": "beb13387",
   "metadata": {},
   "outputs": [
    {
     "data": {
      "text/plain": [
       "(28, 28)"
      ]
     },
     "execution_count": 4,
     "metadata": {},
     "output_type": "execute_result"
    }
   ],
   "source": [
    "x_train[0].shape"
   ]
  },
  {
   "cell_type": "code",
   "execution_count": 5,
   "id": "639819f5",
   "metadata": {},
   "outputs": [
    {
     "name": "stdout",
     "output_type": "stream",
     "text": [
      "5\n"
     ]
    },
    {
     "data": {
      "image/png": "[encoded data removed]",
      "text/plain": [
       "<Figure size 480x480 with 1 Axes>"
      ]
     },
     "metadata": {},
     "output_type": "display_data"
    }
   ],
   "source": [
    "plt.matshow(x_train[0])\n",
    "print(y_train[0])\n",
    "plt.show()"
   ]
  },
  {
   "cell_type": "code",
   "execution_count": 6,
   "id": "66144f5a",
   "metadata": {},
   "outputs": [],
   "source": [
    "x_train_flattend=x_train.reshape(len(x_train),28*28)\n",
    "x_test_flattend=x_test.reshape(len(x_test),28*28)"
   ]
  },
  {
   "cell_type": "code",
   "execution_count": 7,
   "id": "d4591c43",
   "metadata": {},
   "outputs": [
    {
     "data": {
      "text/plain": [
       "(60000, 784)"
      ]
     },
     "execution_count": 7,
     "metadata": {},
     "output_type": "execute_result"
    }
   ],
   "source": [
    "x_train_flattend.shape"
   ]
  },
  {
   "cell_type": "code",
   "execution_count": 8,
   "id": "6a97e1d0",
   "metadata": {},
   "outputs": [],
   "source": [
    "from sklearn.preprocessing import StandardScaler\n",
    "SC=StandardScaler()"
   ]
  },
  {
   "cell_type": "code",
   "execution_count": 9,
   "id": "31d7d20b",
   "metadata": {},
   "outputs": [],
   "source": [
    "x_train_flattend=SC.fit_transform(x_train_flattend)\n",
    "x_test_flattend=SC.transform(x_test_flattend)"
   ]
  },
  {
   "cell_type": "code",
   "execution_count": null,
   "id": "60385847",
   "metadata": {},
   "outputs": [],
   "source": []
  },
  {
   "cell_type": "code",
   "execution_count": 18,
   "id": "202e3c7f",
   "metadata": {},
   "outputs": [],
   "source": [
    "#Here are 10 digit 0 to 9 so output nueron is 10 and in a image is 784 pixel so we have input nueron is 784\n",
    "model= keras.Sequential([\n",
    "    keras.layers.Dense(10,input_shape=(784,),activation=\"sigmoid\")\n",
    "])"
   ]
  },
  {
   "cell_type": "markdown",
   "id": "93fef758",
   "metadata": {},
   "source": [
    "# Note:-\n",
    "keras.layer.Flatten(input_shape(28,28))\n",
    "    \"\"\"we can give above line when this is not already flattened then keras.layers.Dense(10,activation=\"sigmoid\")\n",
    "    now there is no use of giving input_shape \"\"\" "
   ]
  },
  {
   "cell_type": "code",
   "execution_count": 20,
   "id": "b0cf921b",
   "metadata": {},
   "outputs": [],
   "source": [
    "# optimizer just allow you to train efficintelly. it allow you to reach global optima in efficient way\n",
    "model.compile(optimizer=\"adam\",\n",
    "              loss= \"sparse_categorical_crossentropy\",\n",
    "              metrics=[\"accuracy\"] \n",
    "             )"
   ]
  },
  {
   "cell_type": "code",
   "execution_count": 21,
   "id": "01fc9a75",
   "metadata": {},
   "outputs": [
    {
     "name": "stdout",
     "output_type": "stream",
     "text": [
      "Epoch 1/5\n",
      "1875/1875 [==============================] - 3s 1ms/step - loss: 0.4352 - accuracy: 0.8883\n",
      "Epoch 2/5\n",
      "1875/1875 [==============================] - 2s 1ms/step - loss: 0.3238 - accuracy: 0.9175\n",
      "Epoch 3/5\n",
      "1875/1875 [==============================] - 2s 1ms/step - loss: 0.3024 - accuracy: 0.9222\n",
      "Epoch 4/5\n",
      "1875/1875 [==============================] - 2s 1ms/step - loss: 0.2872 - accuracy: 0.9251\n",
      "Epoch 5/5\n",
      "1875/1875 [==============================] - 2s 1ms/step - loss: 0.2772 - accuracy: 0.9261\n"
     ]
    },
    {
     "data": {
      "text/plain": [
       "<keras.callbacks.History at 0x1cf3d9ace80>"
      ]
     },
     "execution_count": 21,
     "metadata": {},
     "output_type": "execute_result"
    }
   ],
   "source": [
    "model.fit(x_train_flattend,y_train,epochs=5)# epoch is the number of iteration of which neural network is going to run the training "
   ]
  },
  {
   "cell_type": "code",
   "execution_count": 22,
   "id": "090daa1c",
   "metadata": {},
   "outputs": [
    {
     "name": "stdout",
     "output_type": "stream",
     "text": [
      "313/313 [==============================] - 1s 1ms/step - loss: 0.3744 - accuracy: 0.9219\n"
     ]
    },
    {
     "data": {
      "text/plain": [
       "[0.37440139055252075, 0.9218999743461609]"
      ]
     },
     "execution_count": 22,
     "metadata": {},
     "output_type": "execute_result"
    }
   ],
   "source": [
    "model.evaluate(x_test_flattend,y_test)"
   ]
  },
  {
   "cell_type": "code",
   "execution_count": 22,
   "id": "338bd36b",
   "metadata": {},
   "outputs": [
    {
     "data": {
      "image/png": "[encoded data removed]",
      "text/plain": [
       "<Figure size 480x480 with 1 Axes>"
      ]
     },
     "metadata": {},
     "output_type": "display_data"
    }
   ],
   "source": [
    "plt.matshow(x_test[0])\n",
    "plt.show()"
   ]
  },
  {
   "cell_type": "code",
   "execution_count": 23,
   "id": "400a9d46",
   "metadata": {},
   "outputs": [
    {
     "name": "stdout",
     "output_type": "stream",
     "text": [
      "313/313 [==============================] - 0s 1ms/step\n"
     ]
    },
    {
     "data": {
      "text/plain": [
       "array([0.94720167, 0.00201089, 0.0074814 , 0.99957716, 0.09793738,\n",
       "       0.87548786, 0.00478588, 0.999999  , 0.5870095 , 0.98608464],\n",
       "      dtype=float32)"
      ]
     },
     "execution_count": 23,
     "metadata": {},
     "output_type": "execute_result"
    }
   ],
   "source": [
    "y_predict=model.predict(x_test_flattend)\n",
    "y_predict[0]"
   ]
  },
  {
   "cell_type": "code",
   "execution_count": 24,
   "id": "0480ea3c",
   "metadata": {},
   "outputs": [
    {
     "data": {
      "text/plain": [
       "7"
      ]
     },
     "execution_count": 24,
     "metadata": {},
     "output_type": "execute_result"
    }
   ],
   "source": [
    "np.argmax(y_predict[0])# argmax is used to find the max valuse and give the index of that value"
   ]
  },
  {
   "cell_type": "code",
   "execution_count": 25,
   "id": "9ce58ced",
   "metadata": {},
   "outputs": [],
   "source": [
    "y_predicted_labels=[np.argmax(i) for i in y_predict ]"
   ]
  },
  {
   "cell_type": "code",
   "execution_count": 26,
   "id": "60889564",
   "metadata": {},
   "outputs": [
    {
     "data": {
      "text/plain": [
       "[7, 2, 1, 0, 4]"
      ]
     },
     "execution_count": 26,
     "metadata": {},
     "output_type": "execute_result"
    }
   ],
   "source": [
    "y_predicted_labels[:5]"
   ]
  },
  {
   "cell_type": "code",
   "execution_count": 27,
   "id": "7f58e23f",
   "metadata": {},
   "outputs": [
    {
     "data": {
      "text/plain": [
       "<tf.Tensor: shape=(10, 10), dtype=int32, numpy=\n",
       "array([[ 951,    0,    1,    2,    0,    8,   12,    4,    2,    0],\n",
       "       [   0, 1098,    5,    1,    1,    1,    5,    2,   22,    0],\n",
       "       [  11,    4,  922,   13,   10,    5,   13,    8,   42,    4],\n",
       "       [   4,    0,   23,  902,    0,   37,    4,    9,   24,    7],\n",
       "       [   1,    2,    6,    1,  903,    0,   16,    3,   11,   39],\n",
       "       [   7,    2,    1,   24,   10,  786,   15,   10,   32,    5],\n",
       "       [  14,    3,    4,    1,    7,   14,  910,    2,    3,    0],\n",
       "       [   2,   11,   23,    7,    3,    2,    0,  945,    0,   35],\n",
       "       [   8,    5,    6,   20,   10,   25,   10,   12,  869,    9],\n",
       "       [   8,    5,    2,   12,   25,    7,    0,   20,    9,  921]])>"
      ]
     },
     "execution_count": 27,
     "metadata": {},
     "output_type": "execute_result"
    }
   ],
   "source": [
    "con_matrix=tf.math.confusion_matrix(labels=y_test,predictions=y_predicted_labels)\n",
    "con_matrix"
   ]
  },
  {
   "cell_type": "code",
   "execution_count": 28,
   "id": "03d11168",
   "metadata": {},
   "outputs": [
    {
     "data": {
      "text/plain": [
       "Text(95.72222222222221, 0.5, 'Truth')"
      ]
     },
     "execution_count": 28,
     "metadata": {},
     "output_type": "execute_result"
    },
    {
     "data": {
      "image/png": "[encoded data removed]",
      "text/plain": [
       "<Figure size 1000x600 with 2 Axes>"
      ]
     },
     "metadata": {},
     "output_type": "display_data"
    }
   ],
   "source": [
    "plt.figure(figsize=(10,6))\n",
    "sns.heatmap(con_matrix,annot=True,fmt=\"d\")\n",
    "plt.xlabel(\"predicted\")\n",
    "plt.ylabel(\"Truth\")"
   ]
  },
  {
   "cell_type": "markdown",
   "id": "11f18f10",
   "metadata": {},
   "source": [
    "# Adding hidden layer"
   ]
  },
  {
   "cell_type": "code",
   "execution_count": 29,
   "id": "e4927730",
   "metadata": {},
   "outputs": [],
   "source": [
    "model= keras.Sequential([\n",
    "    keras.layers.Dense(100,input_shape=(784,),activation=\"relu\"),\n",
    "    keras.layers.Dense(10,activation=\"sigmoid\")\n",
    "])"
   ]
  },
  {
   "cell_type": "code",
   "execution_count": 40,
   "id": "a962da71",
   "metadata": {},
   "outputs": [],
   "source": [
    "# below line is records all the logs and use for visuallize on the tensorboard\n",
    "\n",
    "# optimizer can be adam or SGD\n",
    "model.compile(optimizer=\"SGD\",\n",
    "              loss= \"sparse_categorical_crossentropy\",\n",
    "              metrics=[\"accuracy\"] \n",
    "             )"
   ]
  },
  {
   "cell_type": "code",
   "execution_count": 41,
   "id": "dea2fe8a",
   "metadata": {},
   "outputs": [
    {
     "name": "stdout",
     "output_type": "stream",
     "text": [
      "Epoch 1/5\n",
      "1875/1875 [==============================] - 3s 2ms/step - loss: 0.0083 - accuracy: 0.9988\n",
      "Epoch 2/5\n",
      "1875/1875 [==============================] - 3s 1ms/step - loss: 0.0080 - accuracy: 0.9988\n",
      "Epoch 3/5\n",
      "1875/1875 [==============================] - 3s 1ms/step - loss: 0.0077 - accuracy: 0.9989\n",
      "Epoch 4/5\n",
      "1875/1875 [==============================] - 3s 1ms/step - loss: 0.0074 - accuracy: 0.9990\n",
      "Epoch 5/5\n",
      "1875/1875 [==============================] - 3s 1ms/step - loss: 0.0071 - accuracy: 0.9991\n"
     ]
    },
    {
     "data": {
      "text/plain": [
       "<keras.callbacks.History at 0x1cf3eefff10>"
      ]
     },
     "execution_count": 41,
     "metadata": {},
     "output_type": "execute_result"
    }
   ],
   "source": [
    "model.fit(x_train_flattend,y_train,epochs=5)"
   ]
  },
  {
   "cell_type": "code",
   "execution_count": 33,
   "id": "74a30e93",
   "metadata": {},
   "outputs": [
    {
     "name": "stdout",
     "output_type": "stream",
     "text": [
      "313/313 [==============================] - 0s 1ms/step - loss: 0.1688 - accuracy: 0.9690\n"
     ]
    },
    {
     "data": {
      "text/plain": [
       "[0.16879452764987946, 0.968999981880188]"
      ]
     },
     "execution_count": 33,
     "metadata": {},
     "output_type": "execute_result"
    }
   ],
   "source": [
    "model.evaluate(x_test_flattend,y_test)"
   ]
  },
  {
   "cell_type": "code",
   "execution_count": null,
   "id": "4ce64ca3",
   "metadata": {},
   "outputs": [],
   "source": [
    "\n"
   ]
  },
  {
   "cell_type": "code",
   "execution_count": null,
   "id": "229ebf2f",
   "metadata": {},
   "outputs": [],
   "source": []
  },
  {
   "cell_type": "code",
   "execution_count": null,
   "id": "a090c864",
   "metadata": {},
   "outputs": [],
   "source": []
  },
  {
   "cell_type": "code",
   "execution_count": null,
   "id": "8caa153e",
   "metadata": {},
   "outputs": [],
   "source": []
  }
 ],
 "metadata": {
  "kernelspec": {
   "display_name": "Python 3 (ipykernel)",
   "language": "python",
   "name": "python3"
  },
  "language_info": {
   "codemirror_mode": {
    "name": "ipython",
    "version": 3
   },
   "file_extension": ".py",
   "mimetype": "text/x-python",
   "name": "python",
   "nbconvert_exporter": "python",
   "pygments_lexer": "ipython3",
   "version": "3.9.13"
  }
 },
 "nbformat": 4,
 "nbformat_minor": 5
}
