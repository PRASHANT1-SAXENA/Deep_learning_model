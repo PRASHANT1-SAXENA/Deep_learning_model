{
 "cells": [
  {
   "cell_type": "code",
   "execution_count": 1,
   "id": "383fe74e",
   "metadata": {},
   "outputs": [
    {
     "data": {
      "text/plain": [
       "'C:\\\\Users\\\\chemi\\\\Desktop\\\\enviroments\\\\myml\\\\1-Notebooks_python\\\\All Scripts\\\\Deep_learning_model\\\\object-detection&segmentation\\\\traffic_deduction'"
      ]
     },
     "execution_count": 1,
     "metadata": {},
     "output_type": "execute_result"
    }
   ],
   "source": [
    "import os\n",
    "curr_dir= os.getcwd()\n",
    "curr_dir"
   ]
  },
  {
   "cell_type": "code",
   "execution_count": 2,
   "id": "308deb75",
   "metadata": {},
   "outputs": [],
   "source": [
    "from IPython import display\n",
    "display.clear_output()\n",
    "from IPython.display import display, Image"
   ]
  },
  {
   "cell_type": "code",
   "execution_count": 3,
   "id": "7e358009",
   "metadata": {},
   "outputs": [
    {
     "name": "stderr",
     "output_type": "stream",
     "text": [
      "Ultralytics YOLOv8.0.28  Python-3.9.13 torch-2.0.1+cpu CPU\n",
      "Setup complete  (12 CPUs, 9.9 GB RAM, 141.1/199.7 GB disk)\n"
     ]
    }
   ],
   "source": [
    "#!pip install ultralytics==8.0.28\n",
    "import ultralytics\n",
    "ultralytics.checks()"
   ]
  },
  {
   "cell_type": "code",
   "execution_count": 4,
   "id": "2c5ad987",
   "metadata": {},
   "outputs": [],
   "source": [
    "from ultralytics import YOLO"
   ]
  },
  {
   "cell_type": "code",
   "execution_count": 6,
   "id": "ccbd64fe",
   "metadata": {},
   "outputs": [],
   "source": [
    "#!git clone --q https://github.com/ultralytics/ultralytics.git"
   ]
  },
  {
   "cell_type": "code",
   "execution_count": 5,
   "id": "6a01beca",
   "metadata": {},
   "outputs": [],
   "source": [
    "model = YOLO(\"yolov8x-seg.pt\")"
   ]
  },
  {
   "cell_type": "code",
   "execution_count": null,
   "id": "e02daba0",
   "metadata": {},
   "outputs": [],
   "source": []
  },
  {
   "cell_type": "code",
   "execution_count": null,
   "id": "64e280f9",
   "metadata": {},
   "outputs": [
    {
     "name": "stderr",
     "output_type": "stream",
     "text": [
      "Ultralytics YOLOv8.0.28  Python-3.9.13 torch-2.0.1+cpu CPU\n",
      "\u001b[34m\u001b[1myolo\\engine\\trainer: \u001b[0mtask=segment, mode=train, model=yolov8x-seg.yaml, data=data.yaml, epochs=3, patience=50, batch=16, imgsz=640, save=True, cache=False, device=, workers=8, project=None, name=None, exist_ok=False, pretrained=False, optimizer=SGD, verbose=True, seed=0, deterministic=True, single_cls=False, image_weights=False, rect=False, cos_lr=False, close_mosaic=10, resume=False, overlap_mask=True, mask_ratio=4, dropout=False, val=True, save_json=False, save_hybrid=False, conf=0.001, iou=0.7, max_det=300, half=False, dnn=False, plots=False, source=ultralytics/assets/, show=False, save_txt=False, save_conf=False, save_crop=False, hide_labels=False, hide_conf=False, vid_stride=1, line_thickness=3, visualize=False, augment=False, agnostic_nms=False, classes=None, retina_masks=False, boxes=True, format=torchscript, keras=False, optimize=False, int8=False, dynamic=False, simplify=False, opset=17, workspace=4, nms=False, lr0=0.01, lrf=0.01, momentum=0.937, weight_decay=0.0010078125, warmup_epochs=3.0, warmup_momentum=0.8, warmup_bias_lr=0.1, box=7.5, cls=0.5, dfl=1.5, fl_gamma=0.0, label_smoothing=0.0, nbs=64, hsv_h=0.015, hsv_s=0.7, hsv_v=0.4, degrees=0.0, translate=0.1, scale=0.9, shear=0.0, perspective=0.0, flipud=0.0, fliplr=0.5, mosaic=1.0, mixup=0.15, copy_paste=0.3, cfg=None, v5loader=False, save_dir=runs\\segment\\train\n",
      "Overriding model.yaml nc=80 with nc=8\n",
      "\n",
      "                   from  n    params  module                                       arguments                     \n",
      "  0                  -1  1      2320  ultralytics.nn.modules.Conv                  [3, 80, 3, 2]                 \n",
      "  1                  -1  1    115520  ultralytics.nn.modules.Conv                  [80, 160, 3, 2]               \n",
      "  2                  -1  3    436800  ultralytics.nn.modules.C2f                   [160, 160, 3, True]           \n",
      "  3                  -1  1    461440  ultralytics.nn.modules.Conv                  [160, 320, 3, 2]              \n",
      "  4                  -1  6   3281920  ultralytics.nn.modules.C2f                   [320, 320, 6, True]           \n",
      "  5                  -1  1   1844480  ultralytics.nn.modules.Conv                  [320, 640, 3, 2]              \n",
      "  6                  -1  6  13117440  ultralytics.nn.modules.C2f                   [640, 640, 6, True]           \n",
      "  7                  -1  1   3687680  ultralytics.nn.modules.Conv                  [640, 640, 3, 2]              \n",
      "  8                  -1  3   6969600  ultralytics.nn.modules.C2f                   [640, 640, 3, True]           \n",
      "  9                  -1  1   1025920  ultralytics.nn.modules.SPPF                  [640, 640, 5]                 \n",
      " 10                  -1  1         0  torch.nn.modules.upsampling.Upsample         [None, 2, 'nearest']          \n",
      " 11             [-1, 6]  1         0  ultralytics.nn.modules.Concat                [1]                           \n",
      " 12                  -1  3   7379200  ultralytics.nn.modules.C2f                   [1280, 640, 3]                \n",
      " 13                  -1  1         0  torch.nn.modules.upsampling.Upsample         [None, 2, 'nearest']          \n",
      " 14             [-1, 4]  1         0  ultralytics.nn.modules.Concat                [1]                           \n",
      " 15                  -1  3   1948800  ultralytics.nn.modules.C2f                   [960, 320, 3]                 \n",
      " 16                  -1  1    922240  ultralytics.nn.modules.Conv                  [320, 320, 3, 2]              \n",
      " 17            [-1, 12]  1         0  ultralytics.nn.modules.Concat                [1]                           \n",
      " 18                  -1  3   7174400  ultralytics.nn.modules.C2f                   [960, 640, 3]                 \n",
      " 19                  -1  1   3687680  ultralytics.nn.modules.Conv                  [640, 640, 3, 2]              \n",
      " 20             [-1, 9]  1         0  ultralytics.nn.modules.Concat                [1]                           \n",
      " 21                  -1  3   7379200  ultralytics.nn.modules.C2f                   [1280, 640, 3]                \n",
      " 22        [15, 18, 21]  1  12323912  ultralytics.nn.modules.Segment               [8, 32, 320, [320, 640, 640]] \n",
      "YOLOv8x-seg summary: 401 layers, 71758552 parameters, 71758536 gradients, 344.5 GFLOPs\n",
      "\n",
      "Transferred 651/657 items from pretrained weights\n",
      "\u001b[34m\u001b[1moptimizer:\u001b[0m SGD(lr=0.01) with parameter groups 106 weight(decay=0.0), 117 weight(decay=0.0010078125), 116 bias\n",
      "\u001b[34m\u001b[1mtrain: \u001b[0mScanning C:\\Users\\chemi\\Desktop\\enviroments\\myml\\1-Notebooks_python\\All Scripts\\Deep_learning_model\\object-detec\u001b[0m\n",
      "\u001b[34m\u001b[1mtrain: \u001b[0mWARNING  C:\\Users\\chemi\\Desktop\\enviroments\\myml\\1-Notebooks_python\\All Scripts\\Deep_learning_model\\object-detection&segmentation\\traffic_deduction\\vehicle_objects_deduction.v1i.yolov8\\train\\images\\12_m_jpeg.rf.160725ec4caa432c8b13b5ad951374b8.jpg: ignoring corrupt image/label: non-normalized or out of bounds coordinates [     2.3358       1.363      4.6715]\n",
      "\u001b[34m\u001b[1mtrain: \u001b[0mWARNING  C:\\Users\\chemi\\Desktop\\enviroments\\myml\\1-Notebooks_python\\All Scripts\\Deep_learning_model\\object-detection&segmentation\\traffic_deduction\\vehicle_objects_deduction.v1i.yolov8\\train\\images\\12_m_jpeg.rf.16bb2fafde15940d1a1c891dc0939263.jpg: ignoring corrupt image/label: non-normalized or out of bounds coordinates [     1.0807]\n",
      "\u001b[34m\u001b[1mtrain: \u001b[0mWARNING  C:\\Users\\chemi\\Desktop\\enviroments\\myml\\1-Notebooks_python\\All Scripts\\Deep_learning_model\\object-detection&segmentation\\traffic_deduction\\vehicle_objects_deduction.v1i.yolov8\\train\\images\\12_m_jpeg.rf.3b7ed896230dc24ccbd03e55e2d22d88.jpg: ignoring corrupt image/label: non-normalized or out of bounds coordinates [     1.3786]\n",
      "\u001b[34m\u001b[1mtrain: \u001b[0mWARNING  C:\\Users\\chemi\\Desktop\\enviroments\\myml\\1-Notebooks_python\\All Scripts\\Deep_learning_model\\object-detection&segmentation\\traffic_deduction\\vehicle_objects_deduction.v1i.yolov8\\train\\images\\12_m_jpeg.rf.8bd8a9759dedf705bffc18e527e328b0.jpg: ignoring corrupt image/label: non-normalized or out of bounds coordinates [     2.2303      2.3188      1.3576      4.6377]\n",
      "\u001b[34m\u001b[1mtrain: \u001b[0mWARNING  C:\\Users\\chemi\\Desktop\\enviroments\\myml\\1-Notebooks_python\\All Scripts\\Deep_learning_model\\object-detection&segmentation\\traffic_deduction\\vehicle_objects_deduction.v1i.yolov8\\train\\images\\12_m_jpeg.rf.b1d4cc0dc6cc46c8bde9f67f9944b451.jpg: ignoring corrupt image/label: non-normalized or out of bounds coordinates [     1.8478      1.7973      3.6955      1.6751]\n",
      "\u001b[34m\u001b[1mtrain: \u001b[0mWARNING  C:\\Users\\chemi\\Desktop\\enviroments\\myml\\1-Notebooks_python\\All Scripts\\Deep_learning_model\\object-detection&segmentation\\traffic_deduction\\vehicle_objects_deduction.v1i.yolov8\\train\\images\\17_m_jpeg.rf.20938346bd25608b9ba365ba88fc2419.jpg: ignoring corrupt image/label: non-normalized or out of bounds coordinates [       8.93      10.323       9.374      20.645]\n",
      "\u001b[34m\u001b[1mtrain: \u001b[0mWARNING  C:\\Users\\chemi\\Desktop\\enviroments\\myml\\1-Notebooks_python\\All Scripts\\Deep_learning_model\\object-detection&segmentation\\traffic_deduction\\vehicle_objects_deduction.v1i.yolov8\\train\\images\\17_m_jpeg.rf.51290a72fa285a7d2bccc4c889f599db.jpg: ignoring corrupt image/label: non-normalized or out of bounds coordinates [     4.6848      10.667      9.3696      21.333]\n",
      "\u001b[34m\u001b[1mtrain: \u001b[0mWARNING  C:\\Users\\chemi\\Desktop\\enviroments\\myml\\1-Notebooks_python\\All Scripts\\Deep_learning_model\\object-detection&segmentation\\traffic_deduction\\vehicle_objects_deduction.v1i.yolov8\\train\\images\\17_m_jpeg.rf.f0ccd43717f373727fac2f0ebece0569.jpg: ignoring corrupt image/label: non-normalized or out of bounds coordinates [     5.7478      10.658      11.496      14.683]\n",
      "\u001b[34m\u001b[1mval: \u001b[0mScanning C:\\Users\\chemi\\Desktop\\enviroments\\myml\\1-Notebooks_python\\All Scripts\\Deep_learning_model\\object-detecti\u001b[0m\n",
      "Image sizes 640 train, 640 val\n",
      "Using 0 dataloader workers\n",
      "Logging results to \u001b[1mruns\\segment\\train\u001b[0m\n",
      "Starting training for 3 epochs...\n",
      "\n",
      "      Epoch    GPU_mem   box_loss   seg_loss   cls_loss   dfl_loss  Instances       Size\n",
      "        1/3         0G      1.051      4.407      3.635      1.575         69        640:  51%|█████▏    | 36/70 [2:17:"
     ]
    }
   ],
   "source": [
    "results = model.train(data='data.yaml', epochs=3)"
   ]
  },
  {
   "cell_type": "code",
   "execution_count": null,
   "id": "d21f70f9",
   "metadata": {},
   "outputs": [],
   "source": []
  },
  {
   "cell_type": "code",
   "execution_count": null,
   "id": "626144e1",
   "metadata": {},
   "outputs": [],
   "source": []
  },
  {
   "cell_type": "code",
   "execution_count": null,
   "id": "b2f2a2d0",
   "metadata": {},
   "outputs": [],
   "source": [
    "model.val()"
   ]
  }
 ],
 "metadata": {
  "kernelspec": {
   "display_name": "Python 3 (ipykernel)",
   "language": "python",
   "name": "python3"
  },
  "language_info": {
   "codemirror_mode": {
    "name": "ipython",
    "version": 3
   },
   "file_extension": ".py",
   "mimetype": "text/x-python",
   "name": "python",
   "nbconvert_exporter": "python",
   "pygments_lexer": "ipython3",
   "version": "3.9.13"
  }
 },
 "nbformat": 4,
 "nbformat_minor": 5
}
