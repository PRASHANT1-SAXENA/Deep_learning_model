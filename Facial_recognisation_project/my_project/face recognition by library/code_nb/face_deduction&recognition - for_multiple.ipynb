{
 "cells": [
  {
   "cell_type": "code",
   "execution_count": 3,
   "id": "41c29f4b",
   "metadata": {},
   "outputs": [],
   "source": [
    "import cv2\n",
    "import numpy  as np\n",
    "import face_recognition as fr\n",
    "import sys\n",
    "import os"
   ]
  },
  {
   "cell_type": "code",
   "execution_count": 4,
   "id": "5a88cfe8",
   "metadata": {},
   "outputs": [
    {
     "data": {
      "text/plain": [
       "['C:\\\\Users\\\\chemi\\\\Desktop\\\\Data_For_face_recognistion\\\\sociometrik_employes\\\\Abhishek.png',\n",
       " 'C:\\\\Users\\\\chemi\\\\Desktop\\\\Data_For_face_recognistion\\\\sociometrik_employes\\\\Aditya.png',\n",
       " 'C:\\\\Users\\\\chemi\\\\Desktop\\\\Data_For_face_recognistion\\\\sociometrik_employes\\\\Anju.png',\n",
       " 'C:\\\\Users\\\\chemi\\\\Desktop\\\\Data_For_face_recognistion\\\\sociometrik_employes\\\\Ankit.png',\n",
       " 'C:\\\\Users\\\\chemi\\\\Desktop\\\\Data_For_face_recognistion\\\\sociometrik_employes\\\\Ashish.png',\n",
       " 'C:\\\\Users\\\\chemi\\\\Desktop\\\\Data_For_face_recognistion\\\\sociometrik_employes\\\\Isha.png',\n",
       " 'C:\\\\Users\\\\chemi\\\\Desktop\\\\Data_For_face_recognistion\\\\sociometrik_employes\\\\Kunal.png',\n",
       " 'C:\\\\Users\\\\chemi\\\\Desktop\\\\Data_For_face_recognistion\\\\sociometrik_employes\\\\Kundan.png',\n",
       " 'C:\\\\Users\\\\chemi\\\\Desktop\\\\Data_For_face_recognistion\\\\sociometrik_employes\\\\narendra modi.jpg',\n",
       " 'C:\\\\Users\\\\chemi\\\\Desktop\\\\Data_For_face_recognistion\\\\sociometrik_employes\\\\Prashant.png',\n",
       " 'C:\\\\Users\\\\chemi\\\\Desktop\\\\Data_For_face_recognistion\\\\sociometrik_employes\\\\R madhavan.jpg',\n",
       " 'C:\\\\Users\\\\chemi\\\\Desktop\\\\Data_For_face_recognistion\\\\sociometrik_employes\\\\Shamim.png',\n",
       " 'C:\\\\Users\\\\chemi\\\\Desktop\\\\Data_For_face_recognistion\\\\sociometrik_employes\\\\Shubham.png',\n",
       " 'C:\\\\Users\\\\chemi\\\\Desktop\\\\Data_For_face_recognistion\\\\sociometrik_employes\\\\Sriya.png',\n",
       " 'C:\\\\Users\\\\chemi\\\\Desktop\\\\Data_For_face_recognistion\\\\sociometrik_employes\\\\Tisha.png',\n",
       " 'C:\\\\Users\\\\chemi\\\\Desktop\\\\Data_For_face_recognistion\\\\sociometrik_employes\\\\Varun.png',\n",
       " 'C:\\\\Users\\\\chemi\\\\Desktop\\\\Data_For_face_recognistion\\\\sociometrik_employes\\\\yogi ji.jpg']"
      ]
     },
     "execution_count": 4,
     "metadata": {},
     "output_type": "execute_result"
    }
   ],
   "source": [
    "input_file_path=r'C:\\Users\\chemi\\Desktop\\Data_For_face_recognistion\\sociometrik_employes'\n",
    "file_names=os.listdir(input_file_path)\n",
    "full_paths = [os.path.join(input_file_path, file_name) for file_name in file_names]\n",
    "full_paths\n"
   ]
  },
  {
   "cell_type": "code",
   "execution_count": 4,
   "id": "2246ef2b",
   "metadata": {},
   "outputs": [],
   "source": [
    "image_paths = full_paths\n",
    "\n",
    "file_names\n",
    "known_face_names=[]\n",
    "for name in file_names:\n",
    "    x=name.replace('.jpg','').replace('.png','')\n",
    "    known_face_names.append(x)\n",
    "\n",
    "\n",
    "\n",
    "known_face_encodings = []\n",
    "\n",
    "\n",
    "for image_path in image_paths:\n",
    "    image = fr.load_image_file(image_path)\n",
    "    face_encoding = fr.face_encodings(image)[0]  \n",
    "    known_face_encodings.append(face_encoding)\n",
    "\n",
    "\n"
   ]
  },
  {
   "cell_type": "code",
   "execution_count": 5,
   "id": "d2cba15b",
   "metadata": {},
   "outputs": [
    {
     "ename": "SystemExit",
     "evalue": "you forcefully closed the window",
     "output_type": "error",
     "traceback": [
      "An exception has occurred, use %tb to see the full traceback.\n",
      "\u001b[1;31mSystemExit\u001b[0m\u001b[1;31m:\u001b[0m you forcefully closed the window\n"
     ]
    },
    {
     "name": "stderr",
     "output_type": "stream",
     "text": [
      "c:\\Users\\chemi\\Desktop\\enviroments\\myml\\lib\\site-packages\\IPython\\core\\interactiveshell.py:3386: UserWarning: To exit: use 'exit', 'quit', or Ctrl-D.\n",
      "  warn(\"To exit: use 'exit', 'quit', or Ctrl-D.\", stacklevel=1)\n"
     ]
    },
    {
     "ename": "",
     "evalue": "",
     "output_type": "error",
     "traceback": [
      "\u001b[1;31mThe Kernel crashed while executing code in the the current cell or a previous cell. Please review the code in the cell(s) to identify a possible cause of the failure. Click <a href='https://aka.ms/vscodeJupyterKernelCrash'>here</a> for more info. View Jupyter <a href='command:jupyter.viewOutput'>log</a> for further details."
     ]
    }
   ],
   "source": [
    "\n",
    "\n",
    "video = cv2.VideoCapture(0)\n",
    "\n",
    "while True:\n",
    "    isTrue, frame = video.read()\n",
    "    rgb_frame = frame[:, :, ::-1]\n",
    "    fc_locations = fr.face_locations(rgb_frame)\n",
    "    fc_encodings = fr.face_encodings(rgb_frame, fc_locations)\n",
    "\n",
    "    for (top, right, bottom, left), face_encoding in zip(fc_locations, fc_encodings):\n",
    "        matches = fr.compare_faces(known_face_encodings, face_encoding)\n",
    "        name = 'unknown'\n",
    "        \n",
    "        # Check if there are any matches\n",
    "        if any(matches):\n",
    "            fr_distances = fr.face_distance(known_face_encodings, face_encoding)\n",
    "            match_index = np.argmin(fr_distances)\n",
    "            if matches[match_index]:\n",
    "                name = known_face_names[match_index]\n",
    "\n",
    "        cv2.rectangle(frame, (left+3, top+3), (right+3, bottom+3), (0, 0, 255), 2)\n",
    "        cv2.rectangle(frame, (left, bottom - 25), (right, bottom + 5), (0, 0, 255), cv2.FILLED)\n",
    "        font = cv2.FONT_HERSHEY_SIMPLEX\n",
    "        cv2.putText(frame, name, (left + 6, bottom + 2), font, 1.0, (255, 255, 255), 1)\n",
    "\n",
    "    cv2.imshow('face_recognition_system', frame)\n",
    "    k = cv2.waitKey(1)\n",
    "    if k == ord(\"d\"):\n",
    "        cv2.imwrite(\"mysave_1.jpg\", frame)\n",
    "        sys.exit('you forcefully closed the window')\n",
    "\n",
    "video.release()\n",
    "cv2.destroyAllWindows()\n"
   ]
  },
  {
   "cell_type": "code",
   "execution_count": null,
   "id": "fc597667",
   "metadata": {},
   "outputs": [],
   "source": []
  }
 ],
 "metadata": {
  "kernelspec": {
   "display_name": "Python 3 (ipykernel)",
   "language": "python",
   "name": "python3"
  },
  "language_info": {
   "codemirror_mode": {
    "name": "ipython",
    "version": 3
   },
   "file_extension": ".py",
   "mimetype": "text/x-python",
   "name": "python",
   "nbconvert_exporter": "python",
   "pygments_lexer": "ipython3",
   "version": "3.9.13"
  }
 },
 "nbformat": 4,
 "nbformat_minor": 5
}
