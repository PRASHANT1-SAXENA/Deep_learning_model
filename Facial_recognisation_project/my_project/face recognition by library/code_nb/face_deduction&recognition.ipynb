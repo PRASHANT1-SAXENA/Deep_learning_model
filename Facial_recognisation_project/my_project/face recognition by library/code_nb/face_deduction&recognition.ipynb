{
 "cells": [
  {
   "cell_type": "code",
   "execution_count": 3,
   "id": "41c29f4b",
   "metadata": {},
   "outputs": [],
   "source": [
    "import cv2\n",
    "import numpy  as np\n",
    "import face_recognition as fr\n",
    "import sys"
   ]
  },
  {
   "cell_type": "code",
   "execution_count": 7,
   "id": "6a049a4f",
   "metadata": {},
   "outputs": [],
   "source": [
    "#image=fr.load_image_file(r\"C:\\Users\\chemi\\Desktop\\Data_For_face_recognistion\\Face_deduction_training\\webcam_pic_prashant.png\")\n",
    "image=fr.load_image_file(r\"C:\\Users\\chemi\\Desktop\\Data_For_face_recognistion\\test\\R madhavan_13.jpg\")\n"
   ]
  },
  {
   "cell_type": "code",
   "execution_count": 8,
   "id": "c67513fe",
   "metadata": {},
   "outputs": [],
   "source": [
    "image_encode=fr.face_encodings(image)[0]"
   ]
  },
  {
   "cell_type": "code",
   "execution_count": 10,
   "id": "0c6278dc",
   "metadata": {},
   "outputs": [],
   "source": [
    "known_face_encodings=[image_encode]\n",
    "known_face_names=[\"prashant\"]"
   ]
  },
  {
   "cell_type": "code",
   "execution_count": 13,
   "id": "8a3c83ea",
   "metadata": {},
   "outputs": [
    {
     "ename": "",
     "evalue": "",
     "output_type": "error",
     "traceback": [
      "\u001b[1;31mThe Kernel crashed while executing code in the the current cell or a previous cell. Please review the code in the cell(s) to identify a possible cause of the failure. Click <a href='https://aka.ms/vscodeJupyterKernelCrash'>here</a> for more info. View Jupyter <a href='command:jupyter.viewOutput'>log</a> for further details."
     ]
    }
   ],
   "source": [
    "video=cv2.VideoCapture(0)\n",
    "while True:\n",
    "    isTrue, frame= video.read()\n",
    "    rgb_frame=frame[:,:,::-1]\n",
    "    fc_locations=fr.face_locations(rgb_frame)\n",
    "    fc_encodings=fr.face_encodings(rgb_frame,fc_locations)\n",
    "    \n",
    "    for(top,right,bottom,left), face_encoding in zip(fc_locations,fc_encodings):\n",
    "        matches=fr.compare_faces(known_face_encodings,face_encoding)\n",
    "        name='unknown'\n",
    "        fr_distances=fr.face_distance(known_face_encodings,face_encoding)\n",
    "        match_index=np.argmin(fr_distances)\n",
    "        if matches[match_index]:\n",
    "            name=known_face_names[match_index]\n",
    "\n",
    "        cv2.rectangle(frame,(left,top),(right,bottom),(0,0,255),2)\n",
    "        cv2.rectangle(frame,(left,bottom - 35),(right,bottom),(0,0,255),cv2.FILLED)\n",
    "        font=cv2.FONT_HERSHEY_SIMPLEX\n",
    "        cv2.putText(frame,name,(left +6,bottom +6),font,1.0,(255,255,255),1)\n",
    "    cv2.imshow('face_recognition_system',frame)\n",
    "    k= cv2.waitKey(1)\n",
    "    if k==ord(\"d\"):\n",
    "        cv2.imwrite(\"mysave_1.jpg\",frame)\n",
    "        sys.exit('you forcefully closed the window')\n",
    "\n",
    "vedio_capture.release()\n",
    "cv2.destroyAllWindows()"
   ]
  }
 ],
 "metadata": {
  "kernelspec": {
   "display_name": "Python 3 (ipykernel)",
   "language": "python",
   "name": "python3"
  },
  "language_info": {
   "codemirror_mode": {
    "name": "ipython",
    "version": 3
   },
   "file_extension": ".py",
   "mimetype": "text/x-python",
   "name": "python",
   "nbconvert_exporter": "python",
   "pygments_lexer": "ipython3",
   "version": "3.9.13"
  }
 },
 "nbformat": 4,
 "nbformat_minor": 5
}
