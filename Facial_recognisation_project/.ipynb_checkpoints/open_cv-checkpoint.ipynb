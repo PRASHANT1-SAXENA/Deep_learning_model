{
 "cells": [
  {
   "cell_type": "code",
   "execution_count": 2,
   "id": "96f3c51b",
   "metadata": {},
   "outputs": [],
   "source": [
    "import cv2 as cv\n",
    "import sys"
   ]
  },
  {
   "cell_type": "code",
   "execution_count": 3,
   "id": "c4fe9e81",
   "metadata": {},
   "outputs": [],
   "source": [
    "img=cv.imread(r\"C:\\Users\\chemi\\Desktop\\images.jpeg\")"
   ]
  },
  {
   "cell_type": "code",
   "execution_count": 4,
   "id": "683e9897",
   "metadata": {},
   "outputs": [],
   "source": [
    "\n",
    "if img is None:\n",
    " sys.exit(\"Could not read the image.\")\n"
   ]
  },
  {
   "cell_type": "code",
   "execution_count": null,
   "id": "b706b3d7",
   "metadata": {},
   "outputs": [],
   "source": [
    "cv.imshow(\"Display window\", img)\n",
    "k = cv.waitKey(0)\n",
    "if k == ord(\"s\"):\n",
    " cv.imwrite(\"tpt.png\", img)"
   ]
  },
  {
   "cell_type": "code",
   "execution_count": 7,
   "id": "34d2a386",
   "metadata": {},
   "outputs": [],
   "source": [
    "\n",
    "\n"
   ]
  },
  {
   "cell_type": "code",
   "execution_count": null,
   "id": "cec10b72",
   "metadata": {},
   "outputs": [],
   "source": []
  }
 ],
 "metadata": {
  "kernelspec": {
   "display_name": "Python 3 (ipykernel)",
   "language": "python",
   "name": "python3"
  },
  "language_info": {
   "codemirror_mode": {
    "name": "ipython",
    "version": 3
   },
   "file_extension": ".py",
   "mimetype": "text/x-python",
   "name": "python",
   "nbconvert_exporter": "python",
   "pygments_lexer": "ipython3",
   "version": "3.9.13"
  }
 },
 "nbformat": 4,
 "nbformat_minor": 5
}
