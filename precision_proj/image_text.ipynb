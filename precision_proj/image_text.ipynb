{
 "cells": [
  {
   "cell_type": "code",
   "execution_count": null,
   "metadata": {},
   "outputs": [],
   "source": [
    "# library used\n",
    "import numpy as np\n",
    "import cv2  as cv\n",
    "import sys\n",
    "import pytesseract"
   ]
  },
  {
   "cell_type": "markdown",
   "metadata": {},
   "source": [
    "# use of tesseract"
   ]
  },
  {
   "cell_type": "code",
   "execution_count": null,
   "metadata": {},
   "outputs": [],
   "source": [
    "image = cv.imread(r'C:\\Users\\chemi\\Downloads\\1_p.jpg') \n",
    "gray = cv.cvtColor(image, cv.COLOR_BGR2GRAY)\n",
    "thresh = cv.threshold(gray, 0, 255, cv.THRESH_BINARY_INV | cv.THRESH_OTSU)[1]\n",
    "median = cv.medianBlur(thresh, 3)"
   ]
  },
  {
   "cell_type": "code",
   "execution_count": null,
   "metadata": {},
   "outputs": [],
   "source": [
    "text = pytesseract.image_to_string(median)"
   ]
  },
  {
   "cell_type": "code",
   "execution_count": null,
   "metadata": {},
   "outputs": [],
   "source": [
    "text = pytesseract.image_to_string(image)\n",
    "print(text)"
   ]
  },
  {
   "cell_type": "code",
   "execution_count": null,
   "metadata": {},
   "outputs": [],
   "source": [
    "# img=r\"C:\\Users\\chemi\\Downloads\\2_p.jpeg\"\n",
    "\n",
    "# img= cv.imread(r\"C:\\Users\\chemi\\Downloads\\2_p.jpeg\")\n",
    "# grey_img=cv.cvtColor(img,cv.COLOR_BGR2GRAY)\n",
    "# # cv.imshow(\"image_1\",grey_img)\n",
    "# # if cv.waitKey(0) or 0xFF==ord(\"q\"):\n",
    "# #     sys.exit()\n",
    "# cv.imwrite('grey_img.jpg',grey_img)"
   ]
  },
  {
   "cell_type": "code",
   "execution_count": 6,
   "metadata": {},
   "outputs": [
    {
     "ename": "TypeError",
     "evalue": "__init__() got an unexpected keyword argument 'executable_path'",
     "output_type": "error",
     "traceback": [
      "\u001b[1;31m---------------------------------------------------------------------------\u001b[0m",
      "\u001b[1;31mTypeError\u001b[0m                                 Traceback (most recent call last)",
      "Cell \u001b[1;32mIn [6], line 12\u001b[0m\n\u001b[0;32m      9\u001b[0m options\u001b[38;5;241m.\u001b[39madd_argument(\u001b[38;5;124mf\u001b[39m\u001b[38;5;124m\"\u001b[39m\u001b[38;5;124muser-agent=\u001b[39m\u001b[38;5;132;01m{\u001b[39;00mmy_user_agent\u001b[38;5;132;01m}\u001b[39;00m\u001b[38;5;124m\"\u001b[39m)\n\u001b[0;32m     11\u001b[0m \u001b[38;5;66;03m# Initialize Chrome WebDriver with the specified options\u001b[39;00m\n\u001b[1;32m---> 12\u001b[0m driver \u001b[38;5;241m=\u001b[39m \u001b[43muc\u001b[49m\u001b[38;5;241;43m.\u001b[39;49m\u001b[43mChrome\u001b[49m\u001b[43m(\u001b[49m\u001b[43moptions\u001b[49m\u001b[38;5;241;43m=\u001b[39;49m\u001b[43moptions\u001b[49m\u001b[43m)\u001b[49m\n\u001b[0;32m     14\u001b[0m \u001b[38;5;66;03m# Make a request to your target website.\u001b[39;00m\n\u001b[0;32m     15\u001b[0m driver\u001b[38;5;241m.\u001b[39mget(\u001b[38;5;124m\"\u001b[39m\u001b[38;5;124mhttps://www.nowsecure.nl/\u001b[39m\u001b[38;5;124m\"\u001b[39m)\n",
      "File \u001b[1;32mc:\\Users\\chemi\\Desktop\\enviroments\\myml\\lib\\site-packages\\undetected_chromedriver\\__init__.py:53\u001b[0m, in \u001b[0;36mChrome.__new__\u001b[1;34m(cls, enable_console_log, *args, **kwargs)\u001b[0m\n\u001b[0;32m     51\u001b[0m     kwargs[\u001b[38;5;124m\"\u001b[39m\u001b[38;5;124moptions\u001b[39m\u001b[38;5;124m\"\u001b[39m] \u001b[38;5;241m=\u001b[39m ChromeOptions()\n\u001b[0;32m     52\u001b[0m instance \u001b[38;5;241m=\u001b[39m \u001b[38;5;28mobject\u001b[39m\u001b[38;5;241m.\u001b[39m\u001b[38;5;21m__new__\u001b[39m(_Chrome)\n\u001b[1;32m---> 53\u001b[0m instance\u001b[38;5;241m.\u001b[39m\u001b[38;5;21m__init__\u001b[39m(\u001b[38;5;241m*\u001b[39margs, \u001b[38;5;241m*\u001b[39m\u001b[38;5;241m*\u001b[39mkwargs)\n\u001b[0;32m     55\u001b[0m instance\u001b[38;5;241m.\u001b[39m_orig_get \u001b[38;5;241m=\u001b[39m instance\u001b[38;5;241m.\u001b[39mget\n\u001b[0;32m     57\u001b[0m \u001b[38;5;28;01mdef\u001b[39;00m \u001b[38;5;21m_get_wrapped\u001b[39m(\u001b[38;5;241m*\u001b[39margs, \u001b[38;5;241m*\u001b[39m\u001b[38;5;241m*\u001b[39mkwargs):\n",
      "\u001b[1;31mTypeError\u001b[0m: __init__() got an unexpected keyword argument 'executable_path'"
     ]
    }
   ],
   "source": [
    "import undetected_chromedriver as uc\n",
    " \n",
    "# Define a custom user agent\n",
    "my_user_agent = \"Mozilla/5.0 (Windows NT 10.0; Win64; x64) AppleWebKit/537.36 (KHTML, like Gecko) Chrome/92.0.4515.159 Safari/537.36\"\n",
    " \n",
    "# Set up Chrome options\n",
    "options = uc.ChromeOptions()\n",
    "options.add_argument(\"--headless\")\n",
    "options.add_argument(f\"user-agent={my_user_agent}\")\n",
    " \n",
    "# Initialize Chrome WebDriver with the specified options\n",
    "driver = uc.Chrome(options=options)\n",
    " \n",
    "# Make a request to your target website.\n",
    "driver.get(\"https://www.nowsecure.nl/\")\n",
    "\n",
    "# Close the driver\n",
    "driver.quit()\n",
    "\n"
   ]
  },
  {
   "cell_type": "code",
   "execution_count": 7,
   "metadata": {},
   "outputs": [
    {
     "ename": "TypeError",
     "evalue": "__init__() got an unexpected keyword argument 'execu_path'",
     "output_type": "error",
     "traceback": [
      "\u001b[1;31m---------------------------------------------------------------------------\u001b[0m",
      "\u001b[1;31mTypeError\u001b[0m                                 Traceback (most recent call last)",
      "Cell \u001b[1;32mIn [7], line 3\u001b[0m\n\u001b[0;32m      1\u001b[0m \u001b[38;5;28;01mimport\u001b[39;00m \u001b[38;5;21;01mundetected_chromedriver\u001b[39;00m \u001b[38;5;28;01mas\u001b[39;00m \u001b[38;5;21;01muc\u001b[39;00m \n\u001b[1;32m----> 3\u001b[0m driver \u001b[38;5;241m=\u001b[39m \u001b[43muc\u001b[49m\u001b[38;5;241;43m.\u001b[39;49m\u001b[43mChrome\u001b[49m\u001b[43m(\u001b[49m\u001b[43mexecu_path\u001b[49m\u001b[38;5;241;43m=\u001b[39;49m\u001b[38;5;124;43m'\u001b[39;49m\u001b[38;5;124;43mC:\u001b[39;49m\u001b[38;5;124;43m\\\u001b[39;49m\u001b[38;5;124;43mProgram Files\u001b[39;49m\u001b[38;5;124;43m\\\u001b[39;49m\u001b[38;5;124;43mGoogle\u001b[39;49m\u001b[38;5;124;43m\\\u001b[39;49m\u001b[38;5;124;43mChrome\u001b[39;49m\u001b[38;5;124;43m\\\u001b[39;49m\u001b[38;5;124;43mApplication\u001b[39;49m\u001b[38;5;124;43m\\\u001b[39;49m\u001b[38;5;124;43mchrome.exe\u001b[39;49m\u001b[38;5;124;43m'\u001b[39;49m\u001b[43m)\u001b[49m \n\u001b[0;32m      4\u001b[0m driver\u001b[38;5;241m.\u001b[39mget(\u001b[38;5;124m\"\u001b[39m\u001b[38;5;124mhttps://www.nowsecure.nl\u001b[39m\u001b[38;5;124m\"\u001b[39m) \n\u001b[0;32m      6\u001b[0m \u001b[38;5;28mprint\u001b[39m(driver\u001b[38;5;241m.\u001b[39mcurrent_url) \u001b[38;5;66;03m# https://www.nowsecure.nl/ \u001b[39;00m\n",
      "File \u001b[1;32mc:\\Users\\chemi\\Desktop\\enviroments\\myml\\lib\\site-packages\\undetected_chromedriver\\__init__.py:53\u001b[0m, in \u001b[0;36mChrome.__new__\u001b[1;34m(cls, enable_console_log, *args, **kwargs)\u001b[0m\n\u001b[0;32m     51\u001b[0m     kwargs[\u001b[38;5;124m\"\u001b[39m\u001b[38;5;124moptions\u001b[39m\u001b[38;5;124m\"\u001b[39m] \u001b[38;5;241m=\u001b[39m ChromeOptions()\n\u001b[0;32m     52\u001b[0m instance \u001b[38;5;241m=\u001b[39m \u001b[38;5;28mobject\u001b[39m\u001b[38;5;241m.\u001b[39m\u001b[38;5;21m__new__\u001b[39m(_Chrome)\n\u001b[1;32m---> 53\u001b[0m instance\u001b[38;5;241m.\u001b[39m\u001b[38;5;21m__init__\u001b[39m(\u001b[38;5;241m*\u001b[39margs, \u001b[38;5;241m*\u001b[39m\u001b[38;5;241m*\u001b[39mkwargs)\n\u001b[0;32m     55\u001b[0m instance\u001b[38;5;241m.\u001b[39m_orig_get \u001b[38;5;241m=\u001b[39m instance\u001b[38;5;241m.\u001b[39mget\n\u001b[0;32m     57\u001b[0m \u001b[38;5;28;01mdef\u001b[39;00m \u001b[38;5;21m_get_wrapped\u001b[39m(\u001b[38;5;241m*\u001b[39margs, \u001b[38;5;241m*\u001b[39m\u001b[38;5;241m*\u001b[39mkwargs):\n",
      "\u001b[1;31mTypeError\u001b[0m: __init__() got an unexpected keyword argument 'execu_path'"
     ]
    }
   ],
   "source": [
    "import undetected_chromedriver as uc \n",
    " \n",
    "# driver = uc.Chrome() \n",
    "driver=uc.Chrome(options=options, driver_executable_path=\"/user/KraKoff/files/home/KraKoff/chromedriver.exe\")\n",
    "driver.get(\"https://www.nowsecure.nl\") \n",
    " \n",
    "print(driver.current_url) # https://www.nowsecure.nl/ \n",
    "print(driver.title) # nowSecure\n"
   ]
  },
  {
   "cell_type": "code",
   "execution_count": 1,
   "metadata": {},
   "outputs": [],
   "source": [
    "from selenium.webdriver import Firefox\n",
    "from selenium import webdriver\n",
    "from selenium.webdriver.firefox.service import Service\n",
    "from selenium.webdriver.firefox.options import Options\n",
    "from selenium.webdriver.common.desired_capabilities import DesiredCapabilities"
   ]
  },
  {
   "cell_type": "code",
   "execution_count": null,
   "metadata": {},
   "outputs": [],
   "source": [
    "GMAIL = 'aifinitelearning'\n",
    "PASSWORD = '8808P9068S'"
   ]
  },
  {
   "cell_type": "code",
   "execution_count": 3,
   "metadata": {},
   "outputs": [
    {
     "name": "stdout",
     "output_type": "stream",
     "text": [
      "1\n"
     ]
    },
    {
     "ename": "AttributeError",
     "evalue": "'Options' object has no attribute 'headless'",
     "output_type": "error",
     "traceback": [
      "\u001b[1;31m---------------------------------------------------------------------------\u001b[0m",
      "\u001b[1;31mAttributeError\u001b[0m                            Traceback (most recent call last)",
      "Cell \u001b[1;32mIn [3], line 25\u001b[0m\n\u001b[0;32m     23\u001b[0m \u001b[38;5;66;03m# execu_path= r\"C:\\Program Files\\Google\\Chrome\\Application\\chrome.exe\"\u001b[39;00m\n\u001b[0;32m     24\u001b[0m \u001b[38;5;28mprint\u001b[39m(\u001b[38;5;124m'\u001b[39m\u001b[38;5;124m1\u001b[39m\u001b[38;5;124m'\u001b[39m)\n\u001b[1;32m---> 25\u001b[0m driver \u001b[38;5;241m=\u001b[39m \u001b[43muc\u001b[49m\u001b[38;5;241;43m.\u001b[39;49m\u001b[43mChrome\u001b[49m\u001b[43m(\u001b[49m\u001b[43m)\u001b[49m\n\u001b[0;32m     27\u001b[0m \u001b[38;5;66;03m# driver.delete_all_cookies()\u001b[39;00m\n\u001b[0;32m     29\u001b[0m driver\u001b[38;5;241m.\u001b[39mget(\u001b[38;5;124m\"\u001b[39m\u001b[38;5;124mhttps://accounts.google.com/o/oauth2/v2/auth/oauthchooseaccount?redirect_uri=https\u001b[39m\u001b[38;5;124m%\u001b[39m\u001b[38;5;124m3A\u001b[39m\u001b[38;5;132;01m%2F\u001b[39;00m\u001b[38;5;132;01m%2F\u001b[39;00m\u001b[38;5;124mdevelopers.google.com\u001b[39m\u001b[38;5;132;01m%2F\u001b[39;00m\u001b[38;5;124moauthplayground&prompt=consent&response_type=code&client_id=407408718192.apps.googleusercontent.com&scope=email&access_type=offline&flowName=GeneralOAuthFlow\u001b[39m\u001b[38;5;124m\"\u001b[39m)\n",
      "File \u001b[1;32mc:\\Users\\chemi\\Desktop\\enviroments\\myml\\lib\\site-packages\\undetected_chromedriver\\v2.py:156\u001b[0m, in \u001b[0;36mChrome.__init__\u001b[1;34m(self, executable_path, port, options, service_args, desired_capabilities, service_log_path, chrome_options, keep_alive, debug_addr, user_data_dir, factor, delay)\u001b[0m\n\u001b[0;32m    153\u001b[0m \u001b[38;5;28mself\u001b[39m\u001b[38;5;241m.\u001b[39muser_data_dir \u001b[38;5;241m=\u001b[39m user_data_dir\n\u001b[0;32m    155\u001b[0m extra_args \u001b[38;5;241m=\u001b[39m []\n\u001b[1;32m--> 156\u001b[0m \u001b[38;5;28;01mif\u001b[39;00m \u001b[43moptions\u001b[49m\u001b[38;5;241;43m.\u001b[39;49m\u001b[43mheadless\u001b[49m:\n\u001b[0;32m    157\u001b[0m     extra_args\u001b[38;5;241m.\u001b[39mappend(\u001b[38;5;124m\"\u001b[39m\u001b[38;5;124m--headless\u001b[39m\u001b[38;5;124m\"\u001b[39m)\n\u001b[0;32m    159\u001b[0m \u001b[38;5;28mself\u001b[39m\u001b[38;5;241m.\u001b[39mbrowser_args \u001b[38;5;241m=\u001b[39m [\n\u001b[0;32m    160\u001b[0m     find_chrome_executable(),\n\u001b[0;32m    161\u001b[0m     \u001b[38;5;124m\"\u001b[39m\u001b[38;5;124m--user-data-dir=\u001b[39m\u001b[38;5;132;01m%s\u001b[39;00m\u001b[38;5;124m\"\u001b[39m \u001b[38;5;241m%\u001b[39m user_data_dir,\n\u001b[1;32m   (...)\u001b[0m\n\u001b[0;32m    165\u001b[0m     \u001b[38;5;241m*\u001b[39mextra_args,\n\u001b[0;32m    166\u001b[0m ]\n",
      "\u001b[1;31mAttributeError\u001b[0m: 'Options' object has no attribute 'headless'"
     ]
    }
   ],
   "source": [
    "import undetected_chromedriver.v2 as uc\n",
    "import random,time,os,sys\n",
    "from selenium.webdriver.common.keys import Keys\n",
    "\n",
    "GMAIL = 'aifinitelearning'\n",
    "PASSWORD = '8808P9068S'\n",
    "\n",
    "chrome_options = uc.ChromeOptions()\n",
    "\n",
    "chrome_options.add_argument(\"--disable-extensions\")\n",
    "\n",
    "chrome_options.add_argument(\"--disable-popup-blocking\")\n",
    "\n",
    "chrome_options.add_argument(\"--profile-directory=Default\")\n",
    "\n",
    "chrome_options.add_argument(\"--ignore-certificate-errors\")\n",
    "\n",
    "chrome_options.add_argument(\"--disable-plugins-discovery\")\n",
    "\n",
    "chrome_options.add_argument(\"--incognito\")\n",
    "\n",
    "chrome_options.add_argument(\"user_agent=DN\")\n",
    "# execu_path= r\"C:\\Program Files\\Google\\Chrome\\Application\\chrome.exe\"\n",
    "print('1')\n",
    "driver = uc.Chrome( options=chrome_options)\n",
    "\n",
    "# driver.delete_all_cookies()\n",
    "\n",
    "driver.get(\"https://accounts.google.com/o/oauth2/v2/auth/oauthchooseaccount?redirect_uri=https%3A%2F%2Fdevelopers.google.com%2Foauthplayground&prompt=consent&response_type=code&client_id=407408718192.apps.googleusercontent.com&scope=email&access_type=offline&flowName=GeneralOAuthFlow\")\n",
    "\n",
    "driver.find_element_by_xpath(\"/html/body/div[1]/div[1]/div[2]/div/div[2]/div/div/div[2]/div/div[1]/div/form/span/section/div/div/div[1]/div/div[1]/div/div[1]/input\").send_keys(GMAIL)\n",
    "driver.find_element_by_xpath(\"/html/body/div[1]/div[1]/div[2]/div/div[2]/div/div/div[2]/div/div[1]/div/form/span/section/div/div/div[1]/div/div[1]/div/div[1]/input\").send_keys(Keys.RETURN)\n",
    "\n",
    "time.sleep(10)"
   ]
  },
  {
   "cell_type": "code",
   "execution_count": 14,
   "metadata": {},
   "outputs": [],
   "source": [
    "\n"
   ]
  }
 ],
 "metadata": {
  "kernelspec": {
   "display_name": "Python 3 (ipykernel)",
   "language": "python",
   "name": "python3"
  },
  "language_info": {
   "codemirror_mode": {
    "name": "ipython",
    "version": 3
   },
   "file_extension": ".py",
   "mimetype": "text/x-python",
   "name": "python",
   "nbconvert_exporter": "python",
   "pygments_lexer": "ipython3",
   "version": "3.9.13"
  }
 },
 "nbformat": 4,
 "nbformat_minor": 2
}
